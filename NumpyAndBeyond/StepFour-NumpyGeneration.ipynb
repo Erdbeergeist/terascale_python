{
 "cells": [
  {
   "cell_type": "code",
   "execution_count": null,
   "metadata": {},
   "outputs": [],
   "source": [
    "import numpy as np"
   ]
  },
  {
   "cell_type": "markdown",
   "metadata": {},
   "source": [
    "# Generating Data"
   ]
  },
  {
   "cell_type": "code",
   "execution_count": null,
   "metadata": {},
   "outputs": [],
   "source": [
    "a = np.arange(5)\n",
    "b = np.arange(5,10)\n",
    "c = np.arange(10,100,10)\n",
    "print \"a, b, and c are\", a, b, c"
   ]
  },
  {
   "cell_type": "code",
   "execution_count": null,
   "metadata": {},
   "outputs": [],
   "source": [
    "a = np.linspace(0,5) # n points between i and j, default is 50\n",
    "print \"a is\", a\n",
    "b = np.linspace(-5,5,11) # points can be ± and floating\n",
    "print \"b is\", b"
   ]
  },
  {
   "cell_type": "code",
   "execution_count": null,
   "metadata": {},
   "outputs": [],
   "source": [
    "baseline = np.zeros(5) # 5 zeros\n",
    "ones = np.ones(5) # 5 ones\n",
    "\n",
    "def f(x,y):   # some shape\n",
    "    return x*y\n",
    "\n",
    "slope = -ones*2 + [f(i,i) for i in range(5)]\n",
    "\n",
    "print slope\n",
    "print baseline\n",
    "print \"average change from baseline\", (baseline - slope).mean()"
   ]
  },
  {
   "cell_type": "markdown",
   "metadata": {},
   "source": [
    "### Random numbers"
   ]
  },
  {
   "cell_type": "code",
   "execution_count": null,
   "metadata": {},
   "outputs": [],
   "source": [
    "a = np.random.rand(5) # 5 random numbers between 0 and 1\n",
    "b = np.random.rand(2,3) # 6 random numbers in a matrix\n",
    "print \"a and b are\", a, b"
   ]
  },
  {
   "cell_type": "code",
   "execution_count": null,
   "metadata": {},
   "outputs": [],
   "source": [
    "mean = 5\n",
    "sigma = 2\n",
    "gauss = np.random.normal(mean, sigma, 5) # generate 5 random numbers from a gaussian\n",
    "print gauss"
   ]
  },
  {
   "cell_type": "code",
   "execution_count": null,
   "metadata": {},
   "outputs": [],
   "source": [
    "uniform = np.random.uniform(10,15,5) # generate 5 random numbers from a uniform distribution between i, j\n",
    "print uniform"
   ]
  },
  {
   "cell_type": "code",
   "execution_count": null,
   "metadata": {},
   "outputs": [],
   "source": [
    "gauss = np.random.normal(mean, sigma, 1000) # lots of data\n",
    "sample = np.random.choice(gauss, 5) # 5 random points from the data\n",
    "print sample"
   ]
  },
  {
   "cell_type": "markdown",
   "metadata": {},
   "source": [
    "# Statistics and sumarising data"
   ]
  },
  {
   "cell_type": "code",
   "execution_count": null,
   "metadata": {},
   "outputs": [],
   "source": [
    "data = np.random.normal(0,2,100) # lots of data\n",
    "highest = data.max()\n",
    "lowest = data.min()\n",
    "print highest, lowest"
   ]
  },
  {
   "cell_type": "code",
   "execution_count": null,
   "metadata": {},
   "outputs": [],
   "source": [
    "print data.mean(), np.median(data), data.var(), data.std()"
   ]
  },
  {
   "cell_type": "markdown",
   "metadata": {},
   "source": [
    "or histogramming"
   ]
  },
  {
   "cell_type": "code",
   "execution_count": null,
   "metadata": {},
   "outputs": [],
   "source": [
    "hist, bins = np.histogram(data, bins = np.linspace(data.min(), data.max(), 10))\n",
    "print hist "
   ]
  },
  {
   "cell_type": "markdown",
   "metadata": {},
   "source": [
    "There are some things numpy can't do so easily..."
   ]
  },
  {
   "cell_type": "code",
   "execution_count": null,
   "metadata": {},
   "outputs": [],
   "source": [
    "from scipy.stats import norm"
   ]
  },
  {
   "cell_type": "code",
   "execution_count": null,
   "metadata": {},
   "outputs": [],
   "source": [
    "mu, sigma = norm.fit(data)\n",
    "print mu, sigma"
   ]
  }
 ],
 "metadata": {
  "kernelspec": {
   "display_name": "Python 2",
   "language": "python",
   "name": "python2"
  },
  "language_info": {
   "codemirror_mode": {
    "name": "ipython",
    "version": 2
   },
   "file_extension": ".py",
   "mimetype": "text/x-python",
   "name": "python",
   "nbconvert_exporter": "python",
   "pygments_lexer": "ipython2",
   "version": "2.7.13"
  }
 },
 "nbformat": 4,
 "nbformat_minor": 2
}
