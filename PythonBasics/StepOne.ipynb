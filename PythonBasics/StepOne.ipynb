{
 "cells": [
  {
   "cell_type": "markdown",
   "metadata": {},
   "source": [
    "# We found a witch may we burn her?"
   ]
  },
  {
   "cell_type": "code",
   "execution_count": 1,
   "metadata": {},
   "outputs": [],
   "source": [
    "is_witch = False\n",
    "number_of_warts = 1\n",
    "weight_kg = 56.\n",
    "weight_of_a_duck_kg = 1.6\n",
    "is_made_of_wood = \"do not know\""
   ]
  },
  {
   "cell_type": "markdown",
   "metadata": {},
   "source": [
    "## Hypothesis #1\n",
    "\n",
    "Probability to be a witch is dependent on the number of warts she has divided by her weight"
   ]
  },
  {
   "cell_type": "code",
   "execution_count": 2,
   "metadata": {},
   "outputs": [
    {
     "name": "stdout",
     "output_type": "stream",
     "text": [
      "is she made of wood? do not know\n",
      "What's, the probability that she's a witch? 0.017857142857142856\n",
      "Is she a witch? False\n",
      "may we burn her? False\n"
     ]
    }
   ],
   "source": [
    "print(\"is she made of wood?\", is_made_of_wood)\n",
    "print(\"What's, the probability that she's a witch?\", number_of_warts/weight_kg)\n",
    "print(\"Is she a witch?\", is_witch)\n",
    "print(\"may we burn her?\", is_witch)"
   ]
  },
  {
   "cell_type": "markdown",
   "metadata": {},
   "source": [
    "## Hypothesis #2\n",
    "\n",
    "Maybe we need a combination of witch like traits?"
   ]
  },
  {
   "cell_type": "code",
   "execution_count": 3,
   "metadata": {},
   "outputs": [
    {
     "name": "stdout",
     "output_type": "stream",
     "text": [
      "may we burn her? False\n"
     ]
    }
   ],
   "source": [
    "if \"no\" not in is_made_of_wood:\n",
    "    is_witch = True\n",
    "elif number_of_warts > 0:\n",
    "    if weight_kg < 1.6 or weight_of_a_duck_kg >= 50:\n",
    "        is_witch = True\n",
    "else:\n",
    "    is_witch = False\n",
    "\n",
    "print(\"may we burn her?\", is_witch)"
   ]
  },
  {
   "cell_type": "markdown",
   "metadata": {},
   "source": [
    "## Hypothesis #3\n",
    "\n",
    "Hmmm this is getting complicated. Let's organise things better."
   ]
  },
  {
   "cell_type": "code",
   "execution_count": 4,
   "metadata": {},
   "outputs": [],
   "source": [
    "made_of_wood = [1,False,\"i don't know\"]\n",
    "witch_traits = {\"p(witch)\":number_of_warts/weight_kg,\n",
    "               \"wooden\":made_of_wood[2],\n",
    "               \"floats\":weight_kg < weight_of_a_duck_kg}"
   ]
  },
  {
   "cell_type": "code",
   "execution_count": 5,
   "metadata": {},
   "outputs": [
    {
     "name": "stdout",
     "output_type": "stream",
     "text": [
      "may we burn her? False\n"
     ]
    }
   ],
   "source": [
    "if witch_traits[\"p(witch)\"] > .7 or \"no\" not in witch_traits[\"wooden\"] or witch_traits[\"floats\"]:\n",
    "    is_witch = True\n",
    "print(\"may we burn her?\", is_witch)"
   ]
  },
  {
   "cell_type": "markdown",
   "metadata": {},
   "source": [
    "# Hypothesis #4\n",
    "\n",
    "How heavy does she have to be to be for us to be allowed to burn her?"
   ]
  },
  {
   "cell_type": "code",
   "execution_count": 6,
   "metadata": {},
   "outputs": [
    {
     "name": "stdout",
     "output_type": "stream",
     "text": [
      "we found a 1kg witch. May we burn her? True\n"
     ]
    }
   ],
   "source": [
    "weights = [i for i in reversed(range(1,60))]\n",
    "while not is_witch:\n",
    "    for weight in weights:\n",
    "        witch_traits = {\"p(witch)\":number_of_warts/weight,\n",
    "                       \"wooden\":made_of_wood[2],\n",
    "                       \"floats\":weight < weight_of_a_duck_kg}\n",
    "        if witch_traits[\"p(witch)\"] > .7 or \"no\" not in witch_traits[\"wooden\"] or witch_traits[\"floats\"]:\n",
    "            is_witch = True\n",
    "print(\"we found a {}kg witch. May we burn her? {}\".format(weight,is_witch))\n"
   ]
  }
 ],
 "metadata": {
  "kernelspec": {
   "display_name": "Python 3",
   "language": "python",
   "name": "python3"
  },
  "language_info": {
   "codemirror_mode": {
    "name": "ipython",
    "version": 3
   },
   "file_extension": ".py",
   "mimetype": "text/x-python",
   "name": "python",
   "nbconvert_exporter": "python",
   "pygments_lexer": "ipython3",
   "version": "3.6.3"
  }
 },
 "nbformat": 4,
 "nbformat_minor": 2
}
