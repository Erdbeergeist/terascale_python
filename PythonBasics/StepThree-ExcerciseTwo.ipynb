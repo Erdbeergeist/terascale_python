{
 "cells": [
  {
   "cell_type": "markdown",
   "metadata": {},
   "source": [
    "# Primes!\n",
    "\n",
    "## Question One: \n",
    "### Write a function to test: How many non-primes untill we get a new largest common factor?\n",
    "\n",
    "Hint - funtions work like:"
   ]
  },
  {
   "cell_type": "code",
   "execution_count": null,
   "metadata": {},
   "outputs": [],
   "source": [
    "def remainder_two(i):\n",
    "    remainder = i%2\n",
    "    return(remainder)"
   ]
  },
  {
   "cell_type": "code",
   "execution_count": null,
   "metadata": {},
   "outputs": [],
   "source": [
    "j = 4\n",
    "if remainder_two(j)==0:\n",
    "    print(\"divisible by two\")"
   ]
  },
  {
   "cell_type": "markdown",
   "metadata": {},
   "source": [
    "Hint - functions look like this"
   ]
  },
  {
   "cell_type": "code",
   "execution_count": null,
   "metadata": {},
   "outputs": [],
   "source": [
    "def Get_Primes(some_range):\n",
    "    print(\"I don't know how!\")\n",
    "    results = {\"largest prime\":2, \"Commonest Factor\":\"eggs\",\"largest factor\":2}\n",
    "    return results"
   ]
  },
  {
   "cell_type": "code",
   "execution_count": null,
   "metadata": {},
   "outputs": [],
   "source": [
    "n_to_beat = Get_Primes(100)[\"largest factor\"]\n",
    "for i in range(100,150):\n",
    "    new_i = Get_Primes(i)[\"largest factor\"]\n",
    "    if(new_i > n_to_beat):\n",
    "        n_to_beat = new_i\n",
    "        print(\"new champ\",i)"
   ]
  },
  {
   "cell_type": "markdown",
   "metadata": {},
   "source": [
    "## Question Two:\n",
    "Can you put your function in a `.py` file and call it from this notebook!"
   ]
  },
  {
   "cell_type": "code",
   "execution_count": null,
   "metadata": {},
   "outputs": [],
   "source": [
    "from function import Get_Primes as Extern_Primes"
   ]
  },
  {
   "cell_type": "code",
   "execution_count": null,
   "metadata": {},
   "outputs": [],
   "source": [
    "n_to_beat = Extern_Primes(100)[\"largest factor\"]\n",
    "for i in range(100,150):\n",
    "    new_i = Extern_Primes(i)[\"largest factor\"]\n",
    "    if(new_i > n_to_beat):\n",
    "        n_to_beat = new_i\n",
    "        print(\"new champ\",i)"
   ]
  },
  {
   "cell_type": "markdown",
   "metadata": {},
   "source": [
    "## Question Three\n",
    "### Finish this class"
   ]
  },
  {
   "cell_type": "code",
   "execution_count": null,
   "metadata": {},
   "outputs": [],
   "source": [
    "class Primes_Summary:\n",
    "    def __init__(self,n):\n",
    "        self.n = n\n",
    "        self.primes = self.Get_Primes(n)\n",
    "        self.largest_factor = self.primes[\"largest factor\"]\n",
    "        self.n_primes = \n",
    "        self.largest_prime = \n",
    "    def Print(self):\n",
    "        print(\"for the range 1-{}\".format(self.n))\n",
    "        print(\"the largest prime is {} and the largest factor {}\".format(\n",
    "            self.largest_prime,\n",
    "            self.largest_factor))\n",
    "        print(\"with {} primes in all\".format(self.n_primes))"
   ]
  },
  {
   "cell_type": "code",
   "execution_count": null,
   "metadata": {},
   "outputs": [],
   "source": [
    "p = Primes_Summary(100)"
   ]
  },
  {
   "cell_type": "code",
   "execution_count": null,
   "metadata": {},
   "outputs": [],
   "source": [
    "p.largest_prime"
   ]
  },
  {
   "cell_type": "code",
   "execution_count": null,
   "metadata": {},
   "outputs": [],
   "source": [
    "p.Print()"
   ]
  }
 ],
 "metadata": {
  "kernelspec": {
   "display_name": "Python 3",
   "language": "python",
   "name": "python3"
  },
  "language_info": {
   "codemirror_mode": {
    "name": "ipython",
    "version": 3
   },
   "file_extension": ".py",
   "mimetype": "text/x-python",
   "name": "python",
   "nbconvert_exporter": "python",
   "pygments_lexer": "ipython3",
   "version": "3.6.3"
  }
 },
 "nbformat": 4,
 "nbformat_minor": 2
}
